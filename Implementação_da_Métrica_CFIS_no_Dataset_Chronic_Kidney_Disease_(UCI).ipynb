{
  "nbformat": 4,
  "nbformat_minor": 0,
  "metadata": {
    "colab": {
      "provenance": [],
      "authorship_tag": "ABX9TyOr0VeXaxV5HNlrYvOK8fbt",
      "include_colab_link": true
    },
    "kernelspec": {
      "name": "python3",
      "display_name": "Python 3"
    },
    "language_info": {
      "name": "python"
    }
  },
  "cells": [
    {
      "cell_type": "markdown",
      "metadata": {
        "id": "view-in-github",
        "colab_type": "text"
      },
      "source": [
        "<a href=\"https://colab.research.google.com/github/paulo-generozo/paulo-generozo/blob/main/Implementa%C3%A7%C3%A3o_da_M%C3%A9trica_CFIS_no_Dataset_Chronic_Kidney_Disease_(UCI).ipynb\" target=\"_parent\"><img src=\"https://colab.research.google.com/assets/colab-badge.svg\" alt=\"Open In Colab\"/></a>"
      ]
    },
    {
      "cell_type": "markdown",
      "source": [
        "# Implementação da Métrica CFIS no Dataset Chronic Kidney Disease (UCI)\n",
        "### Aplicação de Seleção de Atributos em Modelos Preditivos  \n",
        "**Autor:** Paulo Elias Tavares Generozo\n",
        "**Data:** 04 de maio de 2025\n",
        "\n",
        "## Sumário\n",
        "1. [Introdução](#introducao)  \n",
        "2. [Carregamento e Pré-processamento dos Dados](#carregamento-e-pre-processamento)  \n",
        "3. [Aplicação do CFIS](#aplicacao-do-cfis)  \n",
        "4. [Treinamento e Avaliação dos Modelos](#treinamento-e-avaliacao)  \n",
        "5. [Resultados](#resultados)  \n",
        "6. [Discussão](#discussao)  \n",
        "7. [Referências](#referencias)\n"
      ],
      "metadata": {
        "id": "ZkvRcbav-PfZ"
      }
    },
    {
      "cell_type": "markdown",
      "source": [
        "<div style=\"background:#f0f8ff; padding:15px; border-left:6px solid #0066CC; border-radius:8px; margin:12px 0;\">\n",
        "\n",
        "#📝 Notebook: Implementação da Métrica CFIS no Dataset Chronic Kidney Disease (UCI)\n",
        "\n",
        "#🔍 Introdução\n",
        "A métrica CFIS (Combined Feature Importance Score) combina três abordagens para avaliar a importância das features :\n",
        "\n",
        "Importância de Permutação\n",
        "Coeficientes de Regressão Logística\n",
        "Correlação com a Variável Alvo\n",
        "Vamos aplicar o CFIS ao dataset Chronic Kidney Disease (ID=336) da UCI.\n",
        "\n",
        "#📦 1. Importar Bibliotecas e Carregar Dados\n",
        "</div>"
      ],
      "metadata": {
        "id": "kKJma3pi-Y7p"
      }
    },
    {
      "cell_type": "code",
      "source": [
        "# Instale a biblioteca ucimlrepo se necessário\n",
        "!pip install ucimlrepo\n",
        "\n",
        "# Importações\n",
        "from ucimlrepo import fetch_ucirepo\n",
        "import pandas as pd\n",
        "import numpy as np\n",
        "import matplotlib.pyplot as plt\n",
        "from sklearn.model_selection import train_test_split\n",
        "from sklearn.linear_model import LogisticRegression\n",
        "from sklearn.inspection import permutation_importance\n",
        "from sklearn.preprocessing import StandardScaler\n",
        "from sklearn.feature_selection import VarianceThreshold\n",
        "from sklearn.metrics import accuracy_score"
      ],
      "metadata": {
        "colab": {
          "base_uri": "https://localhost:8080/"
        },
        "id": "3MJaYPtv-QEp",
        "outputId": "0725cd7a-8d7e-43da-84eb-661764f01a14"
      },
      "execution_count": 1,
      "outputs": [
        {
          "output_type": "stream",
          "name": "stdout",
          "text": [
            "Requirement already satisfied: ucimlrepo in /usr/local/lib/python3.11/dist-packages (0.0.7)\n",
            "Requirement already satisfied: pandas>=1.0.0 in /usr/local/lib/python3.11/dist-packages (from ucimlrepo) (2.2.2)\n",
            "Requirement already satisfied: certifi>=2020.12.5 in /usr/local/lib/python3.11/dist-packages (from ucimlrepo) (2025.4.26)\n",
            "Requirement already satisfied: numpy>=1.23.2 in /usr/local/lib/python3.11/dist-packages (from pandas>=1.0.0->ucimlrepo) (2.0.2)\n",
            "Requirement already satisfied: python-dateutil>=2.8.2 in /usr/local/lib/python3.11/dist-packages (from pandas>=1.0.0->ucimlrepo) (2.9.0.post0)\n",
            "Requirement already satisfied: pytz>=2020.1 in /usr/local/lib/python3.11/dist-packages (from pandas>=1.0.0->ucimlrepo) (2025.2)\n",
            "Requirement already satisfied: tzdata>=2022.7 in /usr/local/lib/python3.11/dist-packages (from pandas>=1.0.0->ucimlrepo) (2025.2)\n",
            "Requirement already satisfied: six>=1.5 in /usr/local/lib/python3.11/dist-packages (from python-dateutil>=2.8.2->pandas>=1.0.0->ucimlrepo) (1.17.0)\n"
          ]
        }
      ]
    },
    {
      "cell_type": "code",
      "source": [
        "# Carregar dataset da UCI\n",
        "ckd = fetch_ucirepo(id=336)\n",
        "X = ckd.data.features.copy()  # Features\n",
        "y = ckd.data.targets.copy()   # Target (class)"
      ],
      "metadata": {
        "id": "U_9a9rpX-nDp"
      },
      "execution_count": 2,
      "outputs": []
    },
    {
      "cell_type": "markdown",
      "source": [
        "<div style=\"background:#f0f8ff; padding:15px; border-left:6px solid #0066CC; border-radius:8px; margin:12px 0;\">\n",
        "\n",
        "#🧹 2. Pré-processamento de Dados\n",
        "\n",
        "2.1. Converter Valores Ausentes (?) para NaN\n",
        "</div>"
      ],
      "metadata": {
        "id": "6FeSZMrd-pYC"
      }
    },
    {
      "cell_type": "code",
      "source": [
        "# Substituir '?' por NaN\n",
        "X.replace('?', np.nan, inplace=True)\n",
        "\n",
        "# Converter todas as colunas para numérico\n",
        "for col in X.columns:\n",
        "    X[col] = pd.to_numeric(X[col], errors='coerce')\n",
        "# Converter y para numérico (ajuste conforme os valores reais)\n",
        "y = y.iloc[:, 0].map({'ckd': 1, 'notckd': 0}).fillna(0)\n",
        "\n",
        "# Converter '?' para NaN e para numérico\n",
        "X.replace('?', np.nan, inplace=True)\n",
        "for col in X.columns:\n",
        "    X[col] = pd.to_numeric(X[col], errors='coerce')\n",
        "\n"
      ],
      "metadata": {
        "id": "FgUDqG_1-vu1"
      },
      "execution_count": 3,
      "outputs": []
    },
    {
      "cell_type": "markdown",
      "source": [
        "<div style=\"background:#f0f8ff; padding:15px; border-left:6px solid #0066CC; border-radius:8px; margin:12px 0;\">\n",
        "2.2. Preencher Valores Ausentes\n",
        "</div>"
      ],
      "metadata": {
        "id": "TnEpNeLT-9k1"
      }
    },
    {
      "cell_type": "code",
      "source": [
        "# Preencher NaN com mediana\n",
        "X.fillna(X.median(numeric_only=True), inplace=True)"
      ],
      "metadata": {
        "id": "08edM9t9-1_t"
      },
      "execution_count": 4,
      "outputs": []
    },
    {
      "cell_type": "markdown",
      "source": [
        "<div style=\"background:#f0f8ff; padding:15px; border-left:6px solid #0066CC; border-radius:8px; margin:12px 0;\">\n",
        "2.3. Mapear Variáveis Categóricas Binárias\n",
        "</div>"
      ],
      "metadata": {
        "id": "kAU4WLLm_CLZ"
      }
    },
    {
      "cell_type": "code",
      "source": [
        "# Mapear variáveis categóricas binárias (ajuste conforme necessário)\n",
        "binary_cols = ['rbc', 'pc', 'pcc', 'ba', 'htn', 'dm', 'cad', 'appet', 'pe', 'ane']\n",
        "for col in binary_cols:\n",
        "    if col in X.columns:\n",
        "        X[col] = X[col].map({'yes': 1, 'no': 0})\n"
      ],
      "metadata": {
        "id": "8TaUwS6H_Cwa"
      },
      "execution_count": 5,
      "outputs": []
    },
    {
      "cell_type": "markdown",
      "source": [
        "<div style=\"background:#f0f8ff; padding:15px; border-left:6px solid #0066CC; border-radius:8px; margin:12px 0;\">\n",
        "2.4. Remover Colunas com Variância Zero\n",
        "</div>"
      ],
      "metadata": {
        "id": "ccr3PihM_Heh"
      }
    },
    {
      "cell_type": "code",
      "source": [
        "# Remover colunas com variância zero\n",
        "selector = VarianceThreshold(threshold=0)\n",
        "X = pd.DataFrame(selector.fit_transform(X), columns=X.columns[selector.get_support()])"
      ],
      "metadata": {
        "colab": {
          "base_uri": "https://localhost:8080/"
        },
        "id": "CHMbaTZr_IHh",
        "outputId": "1870df9c-d3c1-4551-80aa-5fb6df871e06"
      },
      "execution_count": 6,
      "outputs": [
        {
          "output_type": "stream",
          "name": "stderr",
          "text": [
            "/usr/local/lib/python3.11/dist-packages/sklearn/feature_selection/_variance_threshold.py:114: RuntimeWarning: Degrees of freedom <= 0 for slice.\n",
            "  self.variances_ = np.nanvar(X, axis=0)\n",
            "/usr/local/lib/python3.11/dist-packages/sklearn/feature_selection/_variance_threshold.py:122: RuntimeWarning: All-NaN slice encountered\n",
            "  self.variances_ = np.nanmin(compare_arr, axis=0)\n"
          ]
        }
      ]
    },
    {
      "cell_type": "markdown",
      "source": [
        "<div style=\"background:#f0f8ff; padding:15px; border-left:6px solid #0066CC; border-radius:8px; margin:12px 0;\">\n",
        "\n",
        "#📊 3. Dividir Dados e Treinar Modelo\n",
        "\n",
        "</div>"
      ],
      "metadata": {
        "id": "EgvF6dYt_Lpa"
      }
    },
    {
      "cell_type": "code",
      "source": [
        "# Dividir dados\n",
        "X_train, X_test, y_train, y_test = train_test_split(\n",
        "    X, y, test_size=0.2, random_state=42\n",
        ")\n",
        "\n",
        "# Normalizar dados\n",
        "scaler = StandardScaler()\n",
        "X_train_scaled = scaler.fit_transform(X_train)\n",
        "X_test_scaled = scaler.transform(X_test)\n",
        "\n",
        "# Treinar modelo de Regressão Logística\n",
        "model = LogisticRegression(max_iter=1000)\n",
        "model.fit(X_train_scaled, y_train)\n",
        "\n",
        "# Avaliar acurácia\n",
        "print(\"Acurácia do modelo:\", accuracy_score(y_test, model.predict(X_test_scaled)))"
      ],
      "metadata": {
        "colab": {
          "base_uri": "https://localhost:8080/"
        },
        "id": "SPz_sKPO_PYC",
        "outputId": "e3dbc370-59f5-47d1-ae10-1294b57defb1"
      },
      "execution_count": 7,
      "outputs": [
        {
          "output_type": "stream",
          "name": "stdout",
          "text": [
            "Acurácia do modelo: 0.9875\n"
          ]
        }
      ]
    },
    {
      "cell_type": "markdown",
      "source": [
        "<div style=\"background:#f0f8ff; padding:15px; border-left:6px solid #0066CC; border-radius:8px; margin:12px 0;\">\n",
        "\n",
        "#📈 4. Calcular as Três Métricas Individuais\n",
        "\n",
        "\n",
        "4.1. Importância de Permutação\n",
        "\n",
        "</div>"
      ],
      "metadata": {
        "id": "vTKegnuF_SHi"
      }
    },
    {
      "cell_type": "code",
      "source": [
        "perm_importance = permutation_importance(\n",
        "    model, X_test_scaled, y_test, n_repeats=10, random_state=42\n",
        ")\n",
        "pi_scores = perm_importance.importances_mean\n",
        "pi_scores_normalized = pi_scores / np.sum(pi_scores)"
      ],
      "metadata": {
        "id": "lE4ZzuCL_VbO"
      },
      "execution_count": 8,
      "outputs": []
    },
    {
      "cell_type": "markdown",
      "source": [
        "<div style=\"background:#f0f8ff; padding:15px; border-left:6px solid #0066CC; border-radius:8px; margin:12px 0;\">\n",
        "\n",
        "4.2. Coeficientes do Modelo\n",
        "\n",
        "</div>"
      ],
      "metadata": {
        "id": "qjCZy2Q5_YqP"
      }
    },
    {
      "cell_type": "code",
      "source": [
        "coefficients = model.coef_[0]\n",
        "coefficients_normalized = coefficients / np.linalg.norm(coefficients)"
      ],
      "metadata": {
        "id": "v5gqknaF_ZyG"
      },
      "execution_count": 9,
      "outputs": []
    },
    {
      "cell_type": "markdown",
      "source": [
        "<div style=\"background:#f0f8ff; padding:15px; border-left:6px solid #0066CC; border-radius:8px; margin:12px 0;\">\n",
        "\n",
        "4.3. Correlação com o Alvo\n",
        "\n",
        "</div>"
      ],
      "metadata": {
        "id": "r9hrYa4y_cuu"
      }
    },
    {
      "cell_type": "code",
      "source": [
        "correlation = np.array([np.corrcoef(X[col], y.squeeze())[0, 1] for col in X.columns])\n",
        "correlation_normalized = correlation / np.linalg.norm(correlation)"
      ],
      "metadata": {
        "id": "AQDa_13B_jdi"
      },
      "execution_count": 10,
      "outputs": []
    },
    {
      "cell_type": "markdown",
      "source": [
        "<div style=\"background:#f0f8ff; padding:15px; border-left:6px solid #0066CC; border-radius:8px; margin:12px 0;\">\n",
        "\n",
        "#📊 5. Combinar Métricas no CFIS\n",
        "\n",
        "</div>"
      ],
      "metadata": {
        "id": "Gb0zHcnG_mHt"
      }
    },
    {
      "cell_type": "code",
      "source": [
        "# Calcular CFIS\n",
        "cfis_scores = (pi_scores_normalized + coefficients_normalized + correlation_normalized) / 3\n",
        "\n",
        "# Normalizar para somar 100%\n",
        "cfis_scores_normalized = cfis_scores / np.sum(cfis_scores) * 100\n",
        "\n",
        "# Criar DataFrame com resultados\n",
        "cfis_df = pd.DataFrame({\n",
        "    'Feature': X.columns,\n",
        "    'CFIS': cfis_scores_normalized\n",
        "}).sort_values(by='CFIS', ascending=False).reset_index(drop=True)\n",
        "\n",
        "# Exibir top 10 features\n",
        "print(\"\\nTop 10 Features - CFIS:\")\n",
        "print(cfis_df.head(10))"
      ],
      "metadata": {
        "colab": {
          "base_uri": "https://localhost:8080/"
        },
        "id": "MAeqfL0P_oyK",
        "outputId": "354102df-4924-404e-e193-5755b83718aa"
      },
      "execution_count": 11,
      "outputs": [
        {
          "output_type": "stream",
          "name": "stdout",
          "text": [
            "\n",
            "Top 10 Features - CFIS:\n",
            "  Feature        CFIS\n",
            "0      al  136.581235\n",
            "1      sc   83.319465\n",
            "2      su   72.527849\n",
            "3     bgr   68.772764\n",
            "4      bu   66.916099\n",
            "5      bp   50.116035\n",
            "6     age   19.673358\n",
            "7    wbcc   10.227377\n",
            "8     pot    3.654378\n",
            "9    rbcc  -61.748899\n"
          ]
        }
      ]
    },
    {
      "cell_type": "markdown",
      "source": [
        "<div style=\"background:#f0f8ff; padding:15px; border-left:6px solid #0066CC; border-radius:8px; margin:12px 0;\">\n",
        "\n",
        "#📈 6. Visualizar Resultados\n",
        "\n",
        "</div>"
      ],
      "metadata": {
        "id": "giGnR2p__th5"
      }
    },
    {
      "cell_type": "code",
      "source": [
        "# Plotar top 10 features\n",
        "plt.figure(figsize=(10, 6))\n",
        "plt.barh(cfis_df['Feature'][:10][::-1], cfis_df['CFIS'][:10][::-1])\n",
        "plt.xlabel('Importância (%)')\n",
        "plt.title('Top 10 Features - CFIS')\n",
        "plt.tight_layout()\n",
        "plt.show()"
      ],
      "metadata": {
        "colab": {
          "base_uri": "https://localhost:8080/",
          "height": 607
        },
        "id": "8BYsP0vL_wUz",
        "outputId": "b8edd59e-10a7-486e-855f-1bc44e7241b6"
      },
      "execution_count": 12,
      "outputs": [
        {
          "output_type": "display_data",
          "data": {
            "text/plain": [
              "<Figure size 1000x600 with 1 Axes>"
            ],
            "image/png": "[encoded data removed]"
          },
          "metadata": {}
        }
      ]
    },
    {
      "cell_type": "markdown",
      "source": [
        "<div style=\"background:#f0f8ff; padding:15px; border-left:6px solid #0066CC; border-radius:8px; margin:12px 0;\">\n",
        "\n",
        "# Referências  \n",
        "\n",
        "[1] GODOY MARQUES, Vinicius Godoy. *A Métrica CFIS: Uma Nova Perspectiva na Análise da Importância das Features em Modelos de Machine Learning*. **Revista e-Fatec**, v. 14, n. 2, out. 2024.  \n",
        "\n",
        "[2] GODOY MARQUES, V. *CFIS: Combined Feature Importance Score - Repositório*. GitHub, 2024. Disponível em: [https://github.com/vinigodoy1/cfis](https://github.com/vinigodoy1/cfis). Acesso em: 7 ago. 2024.  \n",
        "\n",
        "[3] RUSSELL, Stuart; NORVIG, Peter. *Inteligência Artificial: uma abordagem moderna*. 3. ed. São Paulo: Pearson, 2016. 1152 p.  \n",
        "\n",
        "</div>"
      ],
      "metadata": {
        "id": "r5pZLZXm_zXJ"
      }
    }
  ]
}