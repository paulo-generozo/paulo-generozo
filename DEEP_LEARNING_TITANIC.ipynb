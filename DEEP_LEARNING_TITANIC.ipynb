{
  "nbformat": 4,
  "nbformat_minor": 0,
  "metadata": {
    "colab": {
      "provenance": [],
      "gpuType": "T4",
      "authorship_tag": "ABX9TyPuJzGWpENnfEDGHFH/yca1",
      "include_colab_link": true
    },
    "kernelspec": {
      "name": "python3",
      "display_name": "Python 3"
    },
    "language_info": {
      "name": "python"
    },
    "accelerator": "GPU"
  },
  "cells": [
    {
      "cell_type": "markdown",
      "metadata": {
        "id": "view-in-github",
        "colab_type": "text"
      },
      "source": [
        "<a href=\"https://colab.research.google.com/github/paulo-generozo/paulo-generozo/blob/main/DEEP_LEARNING_TITANIC.ipynb\" target=\"_parent\"><img src=\"https://colab.research.google.com/assets/colab-badge.svg\" alt=\"Open In Colab\"/></a>"
      ]
    },
    {
      "cell_type": "markdown",
      "source": [
        "#Instalação e Importação de Bibliotecas"
      ],
      "metadata": {
        "id": "0HJKRdax4u7d"
      }
    },
    {
      "cell_type": "code",
      "source": [
        "!pip install -q kaggle torch\n",
        "import numpy as np\n",
        "import pandas as pd\n",
        "import torch\n",
        "import torch.nn as nn\n",
        "import torch.optim as optim\n",
        "from torch.utils.data import DataLoader, TensorDataset\n",
        "from sklearn.preprocessing import StandardScaler, OneHotEncoder\n",
        "from sklearn.compose import ColumnTransformer"
      ],
      "metadata": {
        "id": "rG6Mw6Be4wlF"
      },
      "execution_count": 14,
      "outputs": []
    },
    {
      "cell_type": "markdown",
      "source": [
        "#Verificação de GPU"
      ],
      "metadata": {
        "id": "06wwZflJ43JR"
      }
    },
    {
      "cell_type": "code",
      "source": [
        "device = torch.device('cuda' if torch.cuda.is_available() else 'cpu')\n",
        "print(f\"Dispositivo: {device}\")\n",
        "\n",
        "#Explicação: PyTorch permite acelerar cálculos com GPU. Usamos torch.cuda.is_available() para verificar se há suporte a CUDA."
      ],
      "metadata": {
        "colab": {
          "base_uri": "https://localhost:8080/"
        },
        "id": "Ue1VGLsD44C-",
        "outputId": "0f26eb00-1bb8-4dd4-fa65-8208bc21935a"
      },
      "execution_count": 15,
      "outputs": [
        {
          "output_type": "stream",
          "name": "stdout",
          "text": [
            "Dispositivo: cuda\n"
          ]
        }
      ]
    },
    {
      "cell_type": "markdown",
      "source": [
        "#Carregamento e Pré-processamento dos Dados"
      ],
      "metadata": {
        "id": "bRcq3cNH46RG"
      }
    },
    {
      "cell_type": "code",
      "source": [
        "#Download do Dataset\n",
        "\n",
        "from google.colab import files\n",
        "files.upload()  # Faz upload do kaggle.json\n",
        "!mkdir -p ~/.kaggle\n",
        "!cp kaggle.json ~/.kaggle/\n",
        "!chmod 600 ~/.kaggle/kaggle.json\n",
        "!kaggle competitions download -c titanic\n",
        "!unzip titanic.zip"
      ],
      "metadata": {
        "colab": {
          "base_uri": "https://localhost:8080/",
          "height": 183
        },
        "id": "4-rreN365H4k",
        "outputId": "a5c08f89-c422-4f75-aece-21bf7feb5536"
      },
      "execution_count": 16,
      "outputs": [
        {
          "output_type": "display_data",
          "data": {
            "text/plain": [
              "<IPython.core.display.HTML object>"
            ],
            "text/html": [
              "\n",
              "     <input type=\"file\" id=\"files-296f0705-64ac-4d27-a0c2-46a83f144b63\" name=\"files[]\" multiple disabled\n",
              "        style=\"border:none\" />\n",
              "     <output id=\"result-296f0705-64ac-4d27-a0c2-46a83f144b63\">\n",
              "      Upload widget is only available when the cell has been executed in the\n",
              "      current browser session. Please rerun this cell to enable.\n",
              "      </output>\n",
              "      <script>// Copyright 2017 Google LLC\n",
              "//\n",
              "// Licensed under the Apache License, Version 2.0 (the \"License\");\n",
              "// you may not use this file except in compliance with the License.\n",
              "// You may obtain a copy of the License at\n",
              "//\n",
              "//      http://www.apache.org/licenses/LICENSE-2.0\n",
              "//\n",
              "// Unless required by applicable law or agreed to in writing, software\n",
              "// distributed under the License is distributed on an \"AS IS\" BASIS,\n",
              "// WITHOUT WARRANTIES OR CONDITIONS OF ANY KIND, either express or implied.\n",
              "// See the License for the specific language governing permissions and\n",
              "// limitations under the License.\n",
              "\n",
              "/**\n",
              " * @fileoverview Helpers for google.colab Python module.\n",
              " */\n",
              "(function(scope) {\n",
              "function span(text, styleAttributes = {}) {\n",
              "  const element = document.createElement('span');\n",
              "  element.textContent = text;\n",
              "  for (const key of Object.keys(styleAttributes)) {\n",
              "    element.style[key] = styleAttributes[key];\n",
              "  }\n",
              "  return element;\n",
              "}\n",
              "\n",
              "// Max number of bytes which will be uploaded at a time.\n",
              "const MAX_PAYLOAD_SIZE = 100 * 1024;\n",
              "\n",
              "function _uploadFiles(inputId, outputId) {\n",
              "  const steps = uploadFilesStep(inputId, outputId);\n",
              "  const outputElement = document.getElementById(outputId);\n",
              "  // Cache steps on the outputElement to make it available for the next call\n",
              "  // to uploadFilesContinue from Python.\n",
              "  outputElement.steps = steps;\n",
              "\n",
              "  return _uploadFilesContinue(outputId);\n",
              "}\n",
              "\n",
              "// This is roughly an async generator (not supported in the browser yet),\n",
              "// where there are multiple asynchronous steps and the Python side is going\n",
              "// to poll for completion of each step.\n",
              "// This uses a Promise to block the python side on completion of each step,\n",
              "// then passes the result of the previous step as the input to the next step.\n",
              "function _uploadFilesContinue(outputId) {\n",
              "  const outputElement = document.getElementById(outputId);\n",
              "  const steps = outputElement.steps;\n",
              "\n",
              "  const next = steps.next(outputElement.lastPromiseValue);\n",
              "  return Promise.resolve(next.value.promise).then((value) => {\n",
              "    // Cache the last promise value to make it available to the next\n",
              "    // step of the generator.\n",
              "    outputElement.lastPromiseValue = value;\n",
              "    return next.value.response;\n",
              "  });\n",
              "}\n",
              "\n",
              "/**\n",
              " * Generator function which is called between each async step of the upload\n",
              " * process.\n",
              " * @param {string} inputId Element ID of the input file picker element.\n",
              " * @param {string} outputId Element ID of the output display.\n",
              " * @return {!Iterable<!Object>} Iterable of next steps.\n",
              " */\n",
              "function* uploadFilesStep(inputId, outputId) {\n",
              "  const inputElement = document.getElementById(inputId);\n",
              "  inputElement.disabled = false;\n",
              "\n",
              "  const outputElement = document.getElementById(outputId);\n",
              "  outputElement.innerHTML = '';\n",
              "\n",
              "  const pickedPromise = new Promise((resolve) => {\n",
              "    inputElement.addEventListener('change', (e) => {\n",
              "      resolve(e.target.files);\n",
              "    });\n",
              "  });\n",
              "\n",
              "  const cancel = document.createElement('button');\n",
              "  inputElement.parentElement.appendChild(cancel);\n",
              "  cancel.textContent = 'Cancel upload';\n",
              "  const cancelPromise = new Promise((resolve) => {\n",
              "    cancel.onclick = () => {\n",
              "      resolve(null);\n",
              "    };\n",
              "  });\n",
              "\n",
              "  // Wait for the user to pick the files.\n",
              "  const files = yield {\n",
              "    promise: Promise.race([pickedPromise, cancelPromise]),\n",
              "    response: {\n",
              "      action: 'starting',\n",
              "    }\n",
              "  };\n",
              "\n",
              "  cancel.remove();\n",
              "\n",
              "  // Disable the input element since further picks are not allowed.\n",
              "  inputElement.disabled = true;\n",
              "\n",
              "  if (!files) {\n",
              "    return {\n",
              "      response: {\n",
              "        action: 'complete',\n",
              "      }\n",
              "    };\n",
              "  }\n",
              "\n",
              "  for (const file of files) {\n",
              "    const li = document.createElement('li');\n",
              "    li.append(span(file.name, {fontWeight: 'bold'}));\n",
              "    li.append(span(\n",
              "        `(${file.type || 'n/a'}) - ${file.size} bytes, ` +\n",
              "        `last modified: ${\n",
              "            file.lastModifiedDate ? file.lastModifiedDate.toLocaleDateString() :\n",
              "                                    'n/a'} - `));\n",
              "    const percent = span('0% done');\n",
              "    li.appendChild(percent);\n",
              "\n",
              "    outputElement.appendChild(li);\n",
              "\n",
              "    const fileDataPromise = new Promise((resolve) => {\n",
              "      const reader = new FileReader();\n",
              "      reader.onload = (e) => {\n",
              "        resolve(e.target.result);\n",
              "      };\n",
              "      reader.readAsArrayBuffer(file);\n",
              "    });\n",
              "    // Wait for the data to be ready.\n",
              "    let fileData = yield {\n",
              "      promise: fileDataPromise,\n",
              "      response: {\n",
              "        action: 'continue',\n",
              "      }\n",
              "    };\n",
              "\n",
              "    // Use a chunked sending to avoid message size limits. See b/62115660.\n",
              "    let position = 0;\n",
              "    do {\n",
              "      const length = Math.min(fileData.byteLength - position, MAX_PAYLOAD_SIZE);\n",
              "      const chunk = new Uint8Array(fileData, position, length);\n",
              "      position += length;\n",
              "\n",
              "      const base64 = btoa(String.fromCharCode.apply(null, chunk));\n",
              "      yield {\n",
              "        response: {\n",
              "          action: 'append',\n",
              "          file: file.name,\n",
              "          data: base64,\n",
              "        },\n",
              "      };\n",
              "\n",
              "      let percentDone = fileData.byteLength === 0 ?\n",
              "          100 :\n",
              "          Math.round((position / fileData.byteLength) * 100);\n",
              "      percent.textContent = `${percentDone}% done`;\n",
              "\n",
              "    } while (position < fileData.byteLength);\n",
              "  }\n",
              "\n",
              "  // All done.\n",
              "  yield {\n",
              "    response: {\n",
              "      action: 'complete',\n",
              "    }\n",
              "  };\n",
              "}\n",
              "\n",
              "scope.google = scope.google || {};\n",
              "scope.google.colab = scope.google.colab || {};\n",
              "scope.google.colab._files = {\n",
              "  _uploadFiles,\n",
              "  _uploadFilesContinue,\n",
              "};\n",
              "})(self);\n",
              "</script> "
            ]
          },
          "metadata": {}
        },
        {
          "output_type": "stream",
          "name": "stdout",
          "text": [
            "Saving kaggle.json to kaggle (2).json\n",
            "titanic.zip: Skipping, found more recently modified local copy (use --force to force download)\n",
            "Archive:  titanic.zip\n",
            "replace gender_submission.csv? [y]es, [n]o, [A]ll, [N]one, [r]ename: A\n",
            "  inflating: gender_submission.csv   \n",
            "  inflating: test.csv                \n",
            "  inflating: train.csv               \n"
          ]
        }
      ]
    },
    {
      "cell_type": "code",
      "source": [
        "#Engenharia de Features\n",
        "\n",
        "def feature_engineering(df):\n",
        "    df['Title'] = df['Name'].str.extract(' ([A-Za-z]+)\\.', expand=False)\n",
        "    df['Title'] = df['Title'].replace(['Lady', 'Countess', 'Dr', 'Major'], 'Rare')\n",
        "    df['FamilySize'] = df['SibSp'] + df['Parch'] + 1\n",
        "    df['Age'].fillna(df['Age'].median(), inplace=True)\n",
        "    return df\n",
        "\n",
        "\n",
        "#    Objetivo:\n",
        "#Extrair títulos dos nomes (Mr, Mrs, Miss).\n",
        "\n",
        "#Criar FamilySize para capturar relações familiares.\n",
        "\n",
        "#Preencher valores faltantes em Age com a mediana."
      ],
      "metadata": {
        "id": "uZ4AMUcD5STp"
      },
      "execution_count": 17,
      "outputs": []
    },
    {
      "cell_type": "markdown",
      "source": [
        "#Transformação dos Dados"
      ],
      "metadata": {
        "id": "Mxtf9XXz5nGw"
      }
    },
    {
      "cell_type": "code",
      "source": [
        "#Pipeline de Pré-processamento\n",
        "import pandas as pd\n",
        "\n",
        "# Load the training data from the 'train.csv' file\n",
        "train_data = pd.read_csv('train.csv')\n",
        "\n",
        "numeric_features = ['Age', 'Fare']\n",
        "categorical_features = ['Pclass', 'Sex', 'Embarked']\n",
        "\n",
        "preprocessor = ColumnTransformer(\n",
        "    transformers=[\n",
        "        ('num', StandardScaler(), numeric_features),\n",
        "        ('cat', OneHotEncoder(), categorical_features)\n",
        "    ])\n",
        "\n",
        "X_train = preprocessor.fit_transform(train_data)\n",
        "y_train = train_data['Survived'].values\n",
        "\n",
        "\n",
        "#StandardScaler: Normaliza features numéricas.\n",
        "\n",
        "#OneHotEncoder: Transforma variáveis categóricas em binárias."
      ],
      "metadata": {
        "id": "gnz-0ac95oXh"
      },
      "execution_count": 18,
      "outputs": []
    },
    {
      "cell_type": "code",
      "source": [
        "#Conversão para Tensores PyTorch\n",
        "\n",
        "X_train_tensor = torch.FloatTensor(X_train).to(device)  # Removed .toarray()\n",
        "y_train_tensor = torch.FloatTensor(y_train).unsqueeze(1).to(device)\n",
        "\n",
        "#.to(device): Envia dados para GPU, se disponível."
      ],
      "metadata": {
        "id": "AHfKOAzr5y6x"
      },
      "execution_count": 19,
      "outputs": []
    },
    {
      "cell_type": "markdown",
      "source": [
        "#Definição do Modelo em PyTorch"
      ],
      "metadata": {
        "id": "BKySypL557Bx"
      }
    },
    {
      "cell_type": "code",
      "source": [
        "#Arquitetura da Rede Neural\n",
        "\n",
        "class TitanicModel(nn.Module):\n",
        "    def __init__(self, input_size):\n",
        "        super().__init__()\n",
        "        self.network = nn.Sequential(\n",
        "            nn.Linear(input_size, 128),\n",
        "            nn.ReLU(),\n",
        "            nn.Dropout(0.3),\n",
        "            nn.Linear(128, 1),\n",
        "            nn.Sigmoid()\n",
        "        )\n",
        "\n",
        "    def forward(self, x):\n",
        "        return self.network(x)\n",
        "#Camadas:\n",
        "\n",
        "#nn.Linear: Camadas totalmente conectadas.\n",
        "\n",
        "#nn.ReLU: Ativação não linear.\n",
        "\n",
        "#nn.Dropout: Regularização para evitar overfitting.\n"
      ],
      "metadata": {
        "id": "UoWduAdH58G1"
      },
      "execution_count": 20,
      "outputs": []
    },
    {
      "cell_type": "markdown",
      "source": [
        "#Treinamento e Validação"
      ],
      "metadata": {
        "id": "SlnUcZOP6GzK"
      }
    },
    {
      "cell_type": "code",
      "source": [
        "#Arquitetura da Rede Neural\n",
        "\n",
        "class TitanicModel(nn.Module):\n",
        "    def __init__(self, input_size):\n",
        "        super().__init__()\n",
        "        self.network = nn.Sequential(\n",
        "            nn.Linear(input_size, 128),\n",
        "            nn.ReLU(),\n",
        "            nn.Dropout(0.3),\n",
        "            nn.Linear(128, 1),\n",
        "            nn.Sigmoid() # Added sigmoid activation to the last layer\n",
        "        )\n",
        "\n",
        "    def forward(self, x):\n",
        "        return self.network(x)\n",
        "#Camadas:\n",
        "\n",
        "#nn.Linear: Camadas totalmente conectadas.\n",
        "\n",
        "#nn.ReLU: Ativação não linear.\n",
        "\n",
        "#nn.Dropout: Regularização para evitar overfitting.\n",
        "\n",
        "#nn.Sigmoid: Assegura que a saída esteja entre 0 e 1,\n",
        "#             adequada para BCELoss."
      ],
      "metadata": {
        "id": "LSVTJKRe6IAJ"
      },
      "execution_count": 21,
      "outputs": []
    },
    {
      "cell_type": "markdown",
      "source": [
        "#Geração de Previsões\n"
      ],
      "metadata": {
        "id": "GYVd5BhC6XGF"
      }
    },
    {
      "cell_type": "code",
      "source": [
        "# Carregamento e Pré-processamento dos Dados de Teste\n",
        "test_data = pd.read_csv('test.csv')  # Load the test data\n",
        "\n",
        "# Aplicar a mesma engenharia de features aos dados de teste\n",
        "test_data = feature_engineering(test_data)\n",
        "\n",
        "# Aplicar o mesmo pré-processamento aos dados de teste\n",
        "X_test = preprocessor.transform(test_data)\n",
        "\n",
        "# Converter os dados de teste para tensores PyTorch\n",
        "# Check for NaN or infinite values in X_test\n",
        "if np.isnan(X_test).any() or np.isinf(X_test).any():\n",
        "    # Replace NaN and infinite values with a suitable value (e.g., 0)\n",
        "    X_test = np.nan_to_num(X_test)\n",
        "\n",
        "TORCH_USE_CUDA_DSAX_test_tensor = torch.tensor(X_test, dtype=torch.float32, device=device) # Explicitly set dtype and device"
      ],
      "metadata": {
        "colab": {
          "base_uri": "https://localhost:8080/"
        },
        "id": "GrM-SDNwOgrc",
        "outputId": "dc6a5393-54aa-4f40-ef5d-05b1908671b7"
      },
      "execution_count": 22,
      "outputs": [
        {
          "output_type": "stream",
          "name": "stderr",
          "text": [
            "<ipython-input-17-e89fc2472314>:7: FutureWarning: A value is trying to be set on a copy of a DataFrame or Series through chained assignment using an inplace method.\n",
            "The behavior will change in pandas 3.0. This inplace method will never work because the intermediate object on which we are setting values always behaves as a copy.\n",
            "\n",
            "For example, when doing 'df[col].method(value, inplace=True)', try using 'df.method({col: value}, inplace=True)' or df[col] = df[col].method(value) instead, to perform the operation inplace on the original object.\n",
            "\n",
            "\n",
            "  df['Age'].fillna(df['Age'].median(), inplace=True)\n"
          ]
        }
      ]
    },
    {
      "source": [
        "# Carregamento e Pré-processamento dos Dados de Teste\n",
        "test_data = pd.read_csv('test.csv')  # Load the test data\n",
        "\n",
        "# Aplicar a mesma engenharia de features aos dados de teste\n",
        "test_data = feature_engineering(test_data)\n",
        "\n",
        "# Aplicar o mesmo pré-processamento aos dados de teste\n",
        "X_test = preprocessor.transform(test_data)\n",
        "\n",
        "# Converter os dados de teste para tensores PyTorch\n",
        "# Check for NaN or infinite values in X_test and replace them with 0\n",
        "X_test = np.nan_to_num(X_test) # This line replaces NaN and infinite values with 0\n",
        "\n",
        "X_test_tensor = torch.tensor(X_test, dtype=torch.float32, device=device) # Explicitly set dtype and device"
      ],
      "cell_type": "code",
      "metadata": {
        "colab": {
          "base_uri": "https://localhost:8080/"
        },
        "id": "ZpTM6MnpPAHg",
        "outputId": "b21d8792-1400-455a-dcbe-20acc3b16fe6"
      },
      "execution_count": 23,
      "outputs": [
        {
          "output_type": "stream",
          "name": "stderr",
          "text": [
            "<ipython-input-17-e89fc2472314>:7: FutureWarning: A value is trying to be set on a copy of a DataFrame or Series through chained assignment using an inplace method.\n",
            "The behavior will change in pandas 3.0. This inplace method will never work because the intermediate object on which we are setting values always behaves as a copy.\n",
            "\n",
            "For example, when doing 'df[col].method(value, inplace=True)', try using 'df.method({col: value}, inplace=True)' or df[col] = df[col].method(value) instead, to perform the operation inplace on the original object.\n",
            "\n",
            "\n",
            "  df['Age'].fillna(df['Age'].median(), inplace=True)\n"
          ]
        }
      ]
    },
    {
      "source": [
        "#Submissão no Kaggle\n",
        "# Instantiate the model with the correct input size\n",
        "model = TitanicModel(input_size=X_test_tensor.shape[1]).to(device) # Assuming X_test_tensor has the correct shape\n",
        "\n",
        "# ... (rest of your code) ...\n",
        "test_preds = (model(X_test_tensor) > 0.5).int().cpu().numpy()\n",
        "submission = pd.DataFrame({\n",
        "    'PassengerId': test_data['PassengerId'],\n",
        "    'Survived': test_preds.flatten()\n",
        "})\n",
        "submission.to_csv('submission.csv', index=False)\n",
        "\n",
        "#.cpu().numpy(): Converte tensores para CPU e depois para NumPy."
      ],
      "cell_type": "code",
      "metadata": {
        "id": "w2feDfXOPWDB"
      },
      "execution_count": 24,
      "outputs": []
    }
  ]
}